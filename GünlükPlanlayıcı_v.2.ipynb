{
 "cells": [
  {
   "cell_type": "code",
   "execution_count": 10,
   "metadata": {
    "colab": {
     "base_uri": "https://localhost:8080/"
    },
    "executionInfo": {
     "elapsed": 77105,
     "status": "ok",
     "timestamp": 1664732137400,
     "user": {
      "displayName": "Poyraz Pekcan",
      "userId": "15030387661561679477"
     },
     "user_tz": -180
    },
    "id": "XppFSM4fhRG5",
    "outputId": "0d8eb1d5-83e5-4f9f-d1e2-3eae415a4c6c",
    "pycharm": {
     "name": "#%%\n"
    }
   },
   "outputs": [],
   "source": [
    "dersL = []\n",
    "günlükL = []\n",
    "testL = []\n",
    "günL = []\n",
    "while input() == \"\":\n",
    "  ders = dersL.append(input(\"Ödevin olduğu dersi girin: \"))\n",
    "  testSay = int(input(\"Test sayısını girin: \"))\n",
    "  testL.append(testSay)\n",
    "  günSay = int(input(\"Yapılması gereken gün sayısını girin: \"))\n",
    "  günL.append(günSay)\n",
    "  günlükSay = günlükL.append(testSay / günSay)"
   ]
  },
  {
   "cell_type": "code",
   "execution_count": 11,
   "metadata": {},
   "outputs": [],
   "source": [
    "def yuvar(g):\n",
    "    if g % 1 == 0.0:\n",
    "        return int(g)\n",
    "    else:\n",
    "        return int(g) + 1"
   ]
  },
  {
   "cell_type": "code",
   "execution_count": 12,
   "metadata": {
    "colab": {
     "base_uri": "https://localhost:8080/"
    },
    "executionInfo": {
     "elapsed": 17,
     "status": "ok",
     "timestamp": 1664732137401,
     "user": {
      "displayName": "Poyraz Pekcan",
      "userId": "15030387661561679477"
     },
     "user_tz": -180
    },
    "id": "LtH9HIC6hnOC",
    "outputId": "12c8cd91-9d5d-43ea-8a58-e7061267624c",
    "pycharm": {
     "name": "#%%\n"
    }
   },
   "outputs": [
    {
     "name": "stdout",
     "output_type": "stream",
     "text": [
      "mat: 8 test, 4 güne tamamlanacak, günlük 2.0 çözülmesi gerekiyor.**\n",
      "türkçe: 9 test, 7 güne tamamlanacak, günlük 1.2857142857142858 çözülmesi gerekiyor.**\n"
     ]
    }
   ],
   "source": [
    "for i in range(0,len(dersL)):\n",
    "  print(str(dersL[i]) + \": \" + str(testL[i]) + \" test, \" + str(günL[i]) + \" güne tamamlanacak, günlük \" + str(günlükL[i]) + \" çözülmesi gerekiyor.\" + (\"*\" * yuvar(günlükL[i]) ))"
   ]
  }
 ],
 "metadata": {
  "colab": {
   "authorship_tag": "ABX9TyOQp9pYWQZQ3GQc6EhEETyS",
   "provenance": []
  },
  "kernelspec": {
   "display_name": "Python 3.10.6 64-bit",
   "language": "python",
   "name": "python3"
  },
  "language_info": {
   "codemirror_mode": {
    "name": "ipython",
    "version": 3
   },
   "file_extension": ".py",
   "mimetype": "text/x-python",
   "name": "python",
   "nbconvert_exporter": "python",
   "pygments_lexer": "ipython3",
   "version": "3.10.6"
  },
  "vscode": {
   "interpreter": {
    "hash": "298bae9ab02ed713fcae5f92baae8acd2fd21cbd9a1a2c3333c22331f3d94de3"
   }
  }
 },
 "nbformat": 4,
 "nbformat_minor": 0
}
